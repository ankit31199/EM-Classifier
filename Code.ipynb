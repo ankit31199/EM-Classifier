{
 "cells": [
  {
   "cell_type": "code",
   "execution_count": 2,
   "id": "eb7af7af",
   "metadata": {},
   "outputs": [
    {
     "name": "stdout",
     "output_type": "stream",
     "text": [
      "data\n",
      "filenames\n",
      "target_names\n",
      "target\n",
      "DESCR\n",
      "['1', '2', '3', '4', '5', '6']\n",
      "1663\n"
     ]
    }
   ],
   "source": [
    "import numpy as np # linear algebra\n",
    "import pandas as pd # data processing, CSV file I/O (e.g. pd.read_csv)\n",
    "import sklearn\n",
    "import os\n",
    "from sklearn import datasets\n",
    "from sklearn.model_selection import train_test_split\n",
    "\n",
    "#print(os.path.exists(\"../input/enron-sample\"))\n",
    "#print(os.path.exists(\"../input/sampledata/sample\"))\n",
    "#data = datasets.load_files ('../input/sampledata/sample/sample')\n",
    "data = datasets.load_files('enron_with_categories',encoding='utf-8')\n",
    "for keys in data.keys() :\n",
    "    print(keys)\n",
    "print(list(data.target_names))\n",
    "print(len(data.data))"
   ]
  },
  {
   "cell_type": "code",
   "execution_count": 3,
   "id": "4846d503",
   "metadata": {},
   "outputs": [],
   "source": [
    "df = pd.DataFrame(data.data)\n",
    "df[\"Email\"] = df\n"
   ]
  },
  {
   "cell_type": "code",
   "execution_count": 4,
   "id": "ba7ce824",
   "metadata": {},
   "outputs": [
    {
     "name": "stdout",
     "output_type": "stream",
     "text": [
      "Message-ID: <16695482.1075846172580.JavaMail.evans@thyme>\r\n",
      "Date: Fri, 1 Sep 2000 04:25:00 -0700 (PDT)\r\n",
      "From: steven.kean@enron.com\r\n",
      "To: terence.thorn@enron.com\r\n",
      "Subject: Linda Jenkins on \"Jerry's Show\" Monday\r\n",
      "Mime-Version: 1.0\r\n",
      "Content-Type: text/plain; charset=us-ascii\r\n",
      "Content-Transfer-Encoding: 7bit\r\n",
      "X-From: Steven J Kean\r\n",
      "X-To: Terence H Thorn\r\n",
      "X-cc: \r\n",
      "X-bcc: \r\n",
      "X-Folder: \\Steven_Kean_Dec2000_1\\Notes Folders\\All documents\r\n",
      "X-Origin: KEAN-S\r\n",
      "X-FileName: skean.nsf\r\n",
      "\r\n",
      "fyi\n",
      "---------------------- Forwarded by Steven J Kean/NA/Enron on 09/01/2000 \n",
      "11:24 AM ---------------------------\n",
      "\n",
      "           Public Relations\t\n",
      "\t\n",
      "\n",
      "From: public-relations on 09/01/2000 10:42 AM\n",
      "Sent by: Public Relations\n",
      "To: All Enron Houston\n",
      "cc:  \n",
      "Subject: Linda Jenkins on \"Jerry's Show\" Monday\n",
      "\n",
      "\n",
      " What are you doing on Labor Day? \n",
      " \n",
      "In between the hamburgers, hotdogs, homemade ice cream and occasional dip in \n",
      "the pool that many of you will undoubtedly be enjoying Monday, be sure to \n",
      "take a few minutes to turn your TV set to the Jerry Lewis Labor Day Muscular \n",
      "Dystrophy (MDA) Telethon on NBC.  At 1:10 p.m., Enron's own Linda Jenkins \n",
      "will present a $100,000 check to Jerry's Houston team.  The donation, which \n",
      "will benefit research for ALS (amyotrophic lateral sclerosis, also known as \n",
      "Lou Gehrig's disease -- the disease Linda has been living with for the past \n",
      "three years), was raised by devoted friends and volunteers at the Enron/MDA \n",
      "Beach Bowl held in July.  \n",
      "\n",
      "Thanks to all of you who raised money for this cause that is close to our \n",
      "hearts at Enron.   And have a happy and safe holiday.\n",
      "\n"
     ]
    }
   ],
   "source": [
    "print(df.loc[1][0])"
   ]
  },
  {
   "cell_type": "code",
   "execution_count": 5,
   "id": "1a102be2",
   "metadata": {},
   "outputs": [
    {
     "data": {
      "text/plain": [
       "[('Message-ID', '<16695482.1075846172580.JavaMail.evans@thyme>'),\n",
       " ('Date', 'Fri, 1 Sep 2000 04:25:00 -0700 (PDT)'),\n",
       " ('From', 'steven.kean@enron.com'),\n",
       " ('To', 'terence.thorn@enron.com'),\n",
       " ('Subject', 'Linda Jenkins on \"Jerry\\'s Show\" Monday'),\n",
       " ('Mime-Version', '1.0'),\n",
       " ('Content-Type', 'text/plain; charset=us-ascii'),\n",
       " ('Content-Transfer-Encoding', '7bit'),\n",
       " ('X-From', 'Steven J Kean'),\n",
       " ('X-To', 'Terence H Thorn'),\n",
       " ('X-cc', ''),\n",
       " ('X-bcc', ''),\n",
       " ('X-Folder', '\\\\Steven_Kean_Dec2000_1\\\\Notes Folders\\\\All documents'),\n",
       " ('X-Origin', 'KEAN-S'),\n",
       " ('X-FileName', 'skean.nsf')]"
      ]
     },
     "execution_count": 5,
     "metadata": {},
     "output_type": "execute_result"
    }
   ],
   "source": [
    "import email\n",
    "message = df.loc[1][0]\n",
    "\n",
    "e = email.message_from_string(message)\n",
    "\n",
    "e.items()"
   ]
  },
  {
   "cell_type": "code",
   "execution_count": 6,
   "id": "a6a8ee07",
   "metadata": {},
   "outputs": [
    {
     "data": {
      "text/plain": [
       "'fyi\\n---------------------- Forwarded by Steven J Kean/NA/Enron on 09/01/2000 \\n11:24 AM ---------------------------\\n\\n           Public Relations\\t\\n\\t\\n\\nFrom: public-relations on 09/01/2000 10:42 AM\\nSent by: Public Relations\\nTo: All Enron Houston\\ncc:  \\nSubject: Linda Jenkins on \"Jerry\\'s Show\" Monday\\n\\n\\n What are you doing on Labor Day? \\n \\nIn between the hamburgers, hotdogs, homemade ice cream and occasional dip in \\nthe pool that many of you will undoubtedly be enjoying Monday, be sure to \\ntake a few minutes to turn your TV set to the Jerry Lewis Labor Day Muscular \\nDystrophy (MDA) Telethon on NBC.  At 1:10 p.m., Enron\\'s own Linda Jenkins \\nwill present a $100,000 check to Jerry\\'s Houston team.  The donation, which \\nwill benefit research for ALS (amyotrophic lateral sclerosis, also known as \\nLou Gehrig\\'s disease -- the disease Linda has been living with for the past \\nthree years), was raised by devoted friends and volunteers at the Enron/MDA \\nBeach Bowl held in July.  \\n\\nThanks to all of you who raised money for this cause that is close to our \\nhearts at Enron.   And have a happy and safe holiday.\\n'"
      ]
     },
     "execution_count": 6,
     "metadata": {},
     "output_type": "execute_result"
    }
   ],
   "source": [
    "e.get_payload()"
   ]
  },
  {
   "cell_type": "code",
   "execution_count": 7,
   "id": "9f7e2a94",
   "metadata": {},
   "outputs": [],
   "source": [
    "def get_body(messages):\n",
    "    colum = []\n",
    "    for message in messages:\n",
    "        e = email.message_from_string(message)\n",
    "        colum.append(e.get_payload())\n",
    "    return colum"
   ]
  },
  {
   "cell_type": "code",
   "execution_count": 8,
   "id": "0cf84764",
   "metadata": {},
   "outputs": [],
   "source": [
    "def get_subject(messages):\n",
    "    colum = []\n",
    "    for message in messages:\n",
    "        e = email.message_from_string(message)\n",
    "        colum.append(e.get(\"Subject\"))\n",
    "    return colum"
   ]
  },
  {
   "cell_type": "code",
   "execution_count": 9,
   "id": "21102e0b",
   "metadata": {},
   "outputs": [],
   "source": [
    "df[\"Subject\"] = get_subject(df[0])\n",
    "df[\"Body\"]= get_body(df[0])\n",
    "df[\"Class\"] = data.target\n",
    "df.drop([0],axis=1, inplace=True)"
   ]
  },
  {
   "cell_type": "code",
   "execution_count": 10,
   "id": "abd3c1f8",
   "metadata": {},
   "outputs": [
    {
     "data": {
      "text/html": [
       "<div>\n",
       "<style scoped>\n",
       "    .dataframe tbody tr th:only-of-type {\n",
       "        vertical-align: middle;\n",
       "    }\n",
       "\n",
       "    .dataframe tbody tr th {\n",
       "        vertical-align: top;\n",
       "    }\n",
       "\n",
       "    .dataframe thead th {\n",
       "        text-align: right;\n",
       "    }\n",
       "</style>\n",
       "<table border=\"1\" class=\"dataframe\">\n",
       "  <thead>\n",
       "    <tr style=\"text-align: right;\">\n",
       "      <th></th>\n",
       "      <th>Email</th>\n",
       "      <th>Subject</th>\n",
       "      <th>Body</th>\n",
       "      <th>Class</th>\n",
       "    </tr>\n",
       "  </thead>\n",
       "  <tbody>\n",
       "    <tr>\n",
       "      <th>0</th>\n",
       "      <td>Message-ID: &lt;24608565.1075846140162.JavaMail.e...</td>\n",
       "      <td>Regulatory Roundtable, in 49C2</td>\n",
       "      <td>\\nKRTH? 9:10 - 9:55 JP Pritchard 630-3600</td>\n",
       "      <td>3</td>\n",
       "    </tr>\n",
       "    <tr>\n",
       "      <th>1</th>\n",
       "      <td>Message-ID: &lt;16695482.1075846172580.JavaMail.e...</td>\n",
       "      <td>Linda Jenkins on \"Jerry's Show\" Monday</td>\n",
       "      <td>fyi\\n---------------------- Forwarded by Steve...</td>\n",
       "      <td>0</td>\n",
       "    </tr>\n",
       "    <tr>\n",
       "      <th>2</th>\n",
       "      <td>Message-ID: &lt;569949.1075846177167.JavaMail.eva...</td>\n",
       "      <td>Re: Update -- Project 100</td>\n",
       "      <td>It's fine with me.\\n\\n\\n\\n\\tMary Clark\\n\\t09/2...</td>\n",
       "      <td>0</td>\n",
       "    </tr>\n",
       "    <tr>\n",
       "      <th>3</th>\n",
       "      <td>Message-ID: &lt;20011465.1075847624589.JavaMail.e...</td>\n",
       "      <td>Re: Senator Feinstein</td>\n",
       "      <td>yes\\n\\n\\n\\n\\tLinda Robertson\\n\\t03/01/2001 07:...</td>\n",
       "      <td>0</td>\n",
       "    </tr>\n",
       "    <tr>\n",
       "      <th>4</th>\n",
       "      <td>Message-ID: &lt;4856988.1075849868022.JavaMail.ev...</td>\n",
       "      <td>Re: PJM RTO Order</td>\n",
       "      <td>Great summary.  I think the two main issues yo...</td>\n",
       "      <td>5</td>\n",
       "    </tr>\n",
       "    <tr>\n",
       "      <th>...</th>\n",
       "      <td>...</td>\n",
       "      <td>...</td>\n",
       "      <td>...</td>\n",
       "      <td>...</td>\n",
       "    </tr>\n",
       "    <tr>\n",
       "      <th>1658</th>\n",
       "      <td>Message-ID: &lt;11414081.1075846150067.JavaMail.e...</td>\n",
       "      <td>Fwd: Anti-motivational pictures.</td>\n",
       "      <td>---------------------- Forwarded by Steven J K...</td>\n",
       "      <td>1</td>\n",
       "    </tr>\n",
       "    <tr>\n",
       "      <th>1659</th>\n",
       "      <td>Message-ID: &lt;23493481.1075847582778.JavaMail.e...</td>\n",
       "      <td></td>\n",
       "      <td>I'd be happy to call Nickles.</td>\n",
       "      <td>3</td>\n",
       "    </tr>\n",
       "    <tr>\n",
       "      <th>1660</th>\n",
       "      <td>Message-ID: &lt;10469240.1075863429356.JavaMail.e...</td>\n",
       "      <td>RE: ENE candlestick chart</td>\n",
       "      <td>Greetings from London.\\nWhat do you think abou...</td>\n",
       "      <td>5</td>\n",
       "    </tr>\n",
       "    <tr>\n",
       "      <th>1661</th>\n",
       "      <td>Message-ID: &lt;16275256.1075849874488.JavaMail.e...</td>\n",
       "      <td>White House To Support FERC Action Today</td>\n",
       "      <td>According to this morning's Washington Post, t...</td>\n",
       "      <td>0</td>\n",
       "    </tr>\n",
       "    <tr>\n",
       "      <th>1662</th>\n",
       "      <td>Message-ID: &lt;3798955.1075860486253.JavaMail.ev...</td>\n",
       "      <td>Re: Priviliged and Confidential communication ...</td>\n",
       "      <td>Privileged and Confidential\\nThis email contai...</td>\n",
       "      <td>0</td>\n",
       "    </tr>\n",
       "  </tbody>\n",
       "</table>\n",
       "<p>1663 rows × 4 columns</p>\n",
       "</div>"
      ],
      "text/plain": [
       "                                                  Email  \\\n",
       "0     Message-ID: <24608565.1075846140162.JavaMail.e...   \n",
       "1     Message-ID: <16695482.1075846172580.JavaMail.e...   \n",
       "2     Message-ID: <569949.1075846177167.JavaMail.eva...   \n",
       "3     Message-ID: <20011465.1075847624589.JavaMail.e...   \n",
       "4     Message-ID: <4856988.1075849868022.JavaMail.ev...   \n",
       "...                                                 ...   \n",
       "1658  Message-ID: <11414081.1075846150067.JavaMail.e...   \n",
       "1659  Message-ID: <23493481.1075847582778.JavaMail.e...   \n",
       "1660  Message-ID: <10469240.1075863429356.JavaMail.e...   \n",
       "1661  Message-ID: <16275256.1075849874488.JavaMail.e...   \n",
       "1662  Message-ID: <3798955.1075860486253.JavaMail.ev...   \n",
       "\n",
       "                                                Subject  \\\n",
       "0                        Regulatory Roundtable, in 49C2   \n",
       "1                Linda Jenkins on \"Jerry's Show\" Monday   \n",
       "2                             Re: Update -- Project 100   \n",
       "3                                 Re: Senator Feinstein   \n",
       "4                                     Re: PJM RTO Order   \n",
       "...                                                 ...   \n",
       "1658                   Fwd: Anti-motivational pictures.   \n",
       "1659                                                      \n",
       "1660                          RE: ENE candlestick chart   \n",
       "1661           White House To Support FERC Action Today   \n",
       "1662  Re: Priviliged and Confidential communication ...   \n",
       "\n",
       "                                                   Body  Class  \n",
       "0             \\nKRTH? 9:10 - 9:55 JP Pritchard 630-3600      3  \n",
       "1     fyi\\n---------------------- Forwarded by Steve...      0  \n",
       "2     It's fine with me.\\n\\n\\n\\n\\tMary Clark\\n\\t09/2...      0  \n",
       "3     yes\\n\\n\\n\\n\\tLinda Robertson\\n\\t03/01/2001 07:...      0  \n",
       "4     Great summary.  I think the two main issues yo...      5  \n",
       "...                                                 ...    ...  \n",
       "1658  ---------------------- Forwarded by Steven J K...      1  \n",
       "1659                      I'd be happy to call Nickles.      3  \n",
       "1660  Greetings from London.\\nWhat do you think abou...      5  \n",
       "1661  According to this morning's Washington Post, t...      0  \n",
       "1662  Privileged and Confidential\\nThis email contai...      0  \n",
       "\n",
       "[1663 rows x 4 columns]"
      ]
     },
     "execution_count": 10,
     "metadata": {},
     "output_type": "execute_result"
    }
   ],
   "source": [
    "df"
   ]
  },
  {
   "cell_type": "code",
   "execution_count": 11,
   "id": "1a85cbc7",
   "metadata": {},
   "outputs": [
    {
     "data": {
      "text/plain": [
       "0    834\n",
       "3    476\n",
       "5    143\n",
       "2    100\n",
       "4     74\n",
       "1     36\n",
       "Name: Class, dtype: int64"
      ]
     },
     "execution_count": 11,
     "metadata": {},
     "output_type": "execute_result"
    }
   ],
   "source": [
    "df['Class'].value_counts()"
   ]
  },
  {
   "cell_type": "code",
   "execution_count": 12,
   "id": "07081167",
   "metadata": {},
   "outputs": [
    {
     "data": {
      "text/plain": [
       "Email      0\n",
       "Subject    0\n",
       "Body       0\n",
       "Class      0\n",
       "dtype: int64"
      ]
     },
     "execution_count": 12,
     "metadata": {},
     "output_type": "execute_result"
    }
   ],
   "source": [
    "# checking For null\n",
    "df.isnull().sum()"
   ]
  },
  {
   "cell_type": "code",
   "execution_count": 13,
   "id": "a30eac1b",
   "metadata": {},
   "outputs": [
    {
     "data": {
      "text/plain": [
       "0"
      ]
     },
     "execution_count": 13,
     "metadata": {},
     "output_type": "execute_result"
    }
   ],
   "source": [
    "# checking for duplicates\n",
    "df.duplicated().sum()"
   ]
  },
  {
   "cell_type": "code",
   "execution_count": 14,
   "id": "f73c7689",
   "metadata": {},
   "outputs": [],
   "source": [
    "df['text'] = df['Subject'] + \" \" + df['Body']"
   ]
  },
  {
   "cell_type": "code",
   "execution_count": 15,
   "id": "271fa9eb",
   "metadata": {},
   "outputs": [],
   "source": [
    "# drop the columns 'subject' and 'body'\n",
    "df.drop(['Subject','Body','Email'], axis=1, inplace=True)"
   ]
  },
  {
   "cell_type": "code",
   "execution_count": 16,
   "id": "4af2e25e",
   "metadata": {},
   "outputs": [
    {
     "data": {
      "text/plain": [
       "47"
      ]
     },
     "execution_count": 16,
     "metadata": {},
     "output_type": "execute_result"
    }
   ],
   "source": [
    "# checking for duplicates again\n",
    "df.duplicated().sum()"
   ]
  },
  {
   "cell_type": "code",
   "execution_count": 17,
   "id": "c51edca5",
   "metadata": {},
   "outputs": [
    {
     "data": {
      "text/html": [
       "<div>\n",
       "<style scoped>\n",
       "    .dataframe tbody tr th:only-of-type {\n",
       "        vertical-align: middle;\n",
       "    }\n",
       "\n",
       "    .dataframe tbody tr th {\n",
       "        vertical-align: top;\n",
       "    }\n",
       "\n",
       "    .dataframe thead th {\n",
       "        text-align: right;\n",
       "    }\n",
       "</style>\n",
       "<table border=\"1\" class=\"dataframe\">\n",
       "  <thead>\n",
       "    <tr style=\"text-align: right;\">\n",
       "      <th></th>\n",
       "      <th>Class</th>\n",
       "      <th>text</th>\n",
       "    </tr>\n",
       "  </thead>\n",
       "  <tbody>\n",
       "    <tr>\n",
       "      <th>0</th>\n",
       "      <td>3</td>\n",
       "      <td>Regulatory Roundtable, in 49C2 \\nKRTH? 9:10 - ...</td>\n",
       "    </tr>\n",
       "    <tr>\n",
       "      <th>1</th>\n",
       "      <td>0</td>\n",
       "      <td>Linda Jenkins on \"Jerry's Show\" Monday fyi\\n--...</td>\n",
       "    </tr>\n",
       "    <tr>\n",
       "      <th>2</th>\n",
       "      <td>0</td>\n",
       "      <td>Re: Update -- Project 100 It's fine with me.\\n...</td>\n",
       "    </tr>\n",
       "    <tr>\n",
       "      <th>3</th>\n",
       "      <td>0</td>\n",
       "      <td>Re: Senator Feinstein yes\\n\\n\\n\\n\\tLinda Rober...</td>\n",
       "    </tr>\n",
       "    <tr>\n",
       "      <th>4</th>\n",
       "      <td>5</td>\n",
       "      <td>Re: PJM RTO Order Great summary.  I think the ...</td>\n",
       "    </tr>\n",
       "    <tr>\n",
       "      <th>...</th>\n",
       "      <td>...</td>\n",
       "      <td>...</td>\n",
       "    </tr>\n",
       "    <tr>\n",
       "      <th>1658</th>\n",
       "      <td>1</td>\n",
       "      <td>Fwd: Anti-motivational pictures. -------------...</td>\n",
       "    </tr>\n",
       "    <tr>\n",
       "      <th>1659</th>\n",
       "      <td>3</td>\n",
       "      <td>I'd be happy to call Nickles.</td>\n",
       "    </tr>\n",
       "    <tr>\n",
       "      <th>1660</th>\n",
       "      <td>5</td>\n",
       "      <td>RE: ENE candlestick chart Greetings from Londo...</td>\n",
       "    </tr>\n",
       "    <tr>\n",
       "      <th>1661</th>\n",
       "      <td>0</td>\n",
       "      <td>White House To Support FERC Action Today Accor...</td>\n",
       "    </tr>\n",
       "    <tr>\n",
       "      <th>1662</th>\n",
       "      <td>0</td>\n",
       "      <td>Re: Priviliged and Confidential communication ...</td>\n",
       "    </tr>\n",
       "  </tbody>\n",
       "</table>\n",
       "<p>1616 rows × 2 columns</p>\n",
       "</div>"
      ],
      "text/plain": [
       "      Class                                               text\n",
       "0         3  Regulatory Roundtable, in 49C2 \\nKRTH? 9:10 - ...\n",
       "1         0  Linda Jenkins on \"Jerry's Show\" Monday fyi\\n--...\n",
       "2         0  Re: Update -- Project 100 It's fine with me.\\n...\n",
       "3         0  Re: Senator Feinstein yes\\n\\n\\n\\n\\tLinda Rober...\n",
       "4         5  Re: PJM RTO Order Great summary.  I think the ...\n",
       "...     ...                                                ...\n",
       "1658      1  Fwd: Anti-motivational pictures. -------------...\n",
       "1659      3                      I'd be happy to call Nickles.\n",
       "1660      5  RE: ENE candlestick chart Greetings from Londo...\n",
       "1661      0  White House To Support FERC Action Today Accor...\n",
       "1662      0  Re: Priviliged and Confidential communication ...\n",
       "\n",
       "[1616 rows x 2 columns]"
      ]
     },
     "execution_count": 17,
     "metadata": {},
     "output_type": "execute_result"
    }
   ],
   "source": [
    "# dropping duplicates \n",
    "df.drop_duplicates(keep='first')"
   ]
  },
  {
   "cell_type": "code",
   "execution_count": 18,
   "id": "19189a17",
   "metadata": {},
   "outputs": [
    {
     "data": {
      "image/png": "[encoded data removed]",
      "text/plain": [
       "<Figure size 432x288 with 1 Axes>"
      ]
     },
     "metadata": {},
     "output_type": "display_data"
    }
   ],
   "source": [
    "# checking class distribution\n",
    "import matplotlib.pyplot as plt\n",
    "plt.pie(df['Class'].value_counts(), labels=['Company Business','Purely Personal','Personal but in professional context' ,'Logistic Arrangements','Employment arrangements','Document editing'], autopct='%0.2f')\n",
    "plt.show()"
   ]
  },
  {
   "cell_type": "markdown",
   "id": "e88e98db",
   "metadata": {},
   "source": [
    "### Data is Imbalanced"
   ]
  },
  {
   "cell_type": "code",
   "execution_count": 19,
   "id": "1ede82f3",
   "metadata": {},
   "outputs": [
    {
     "name": "stderr",
     "output_type": "stream",
     "text": [
      "[nltk_data] Downloading package punkt to\n",
      "[nltk_data]     C:\\Users\\Atul\\AppData\\Roaming\\nltk_data...\n",
      "[nltk_data]   Package punkt is already up-to-date!\n"
     ]
    },
    {
     "data": {
      "text/plain": [
       "True"
      ]
     },
     "execution_count": 19,
     "metadata": {},
     "output_type": "execute_result"
    }
   ],
   "source": [
    "import nltk\n",
    "nltk.download('punkt')"
   ]
  },
  {
   "cell_type": "code",
   "execution_count": 20,
   "id": "bb10e7d7",
   "metadata": {},
   "outputs": [],
   "source": [
    "# getting number of characters \n",
    "df['num_characters'] = df['text'].apply(len)\n",
    "# num of words\n",
    "df['num_words'] = df['text'].apply(lambda x:len(nltk.word_tokenize(x)))"
   ]
  },
  {
   "cell_type": "code",
   "execution_count": 21,
   "id": "d2d092c0",
   "metadata": {},
   "outputs": [
    {
     "data": {
      "text/html": [
       "<div>\n",
       "<style scoped>\n",
       "    .dataframe tbody tr th:only-of-type {\n",
       "        vertical-align: middle;\n",
       "    }\n",
       "\n",
       "    .dataframe tbody tr th {\n",
       "        vertical-align: top;\n",
       "    }\n",
       "\n",
       "    .dataframe thead th {\n",
       "        text-align: right;\n",
       "    }\n",
       "</style>\n",
       "<table border=\"1\" class=\"dataframe\">\n",
       "  <thead>\n",
       "    <tr style=\"text-align: right;\">\n",
       "      <th></th>\n",
       "      <th>Class</th>\n",
       "      <th>text</th>\n",
       "      <th>num_characters</th>\n",
       "      <th>num_words</th>\n",
       "    </tr>\n",
       "  </thead>\n",
       "  <tbody>\n",
       "    <tr>\n",
       "      <th>0</th>\n",
       "      <td>3</td>\n",
       "      <td>Regulatory Roundtable, in 49C2 \\nKRTH? 9:10 - ...</td>\n",
       "      <td>71</td>\n",
       "      <td>13</td>\n",
       "    </tr>\n",
       "    <tr>\n",
       "      <th>1</th>\n",
       "      <td>0</td>\n",
       "      <td>Linda Jenkins on \"Jerry's Show\" Monday fyi\\n--...</td>\n",
       "      <td>1145</td>\n",
       "      <td>238</td>\n",
       "    </tr>\n",
       "    <tr>\n",
       "      <th>2</th>\n",
       "      <td>0</td>\n",
       "      <td>Re: Update -- Project 100 It's fine with me.\\n...</td>\n",
       "      <td>912</td>\n",
       "      <td>188</td>\n",
       "    </tr>\n",
       "    <tr>\n",
       "      <th>3</th>\n",
       "      <td>0</td>\n",
       "      <td>Re: Senator Feinstein yes\\n\\n\\n\\n\\tLinda Rober...</td>\n",
       "      <td>516</td>\n",
       "      <td>98</td>\n",
       "    </tr>\n",
       "    <tr>\n",
       "      <th>4</th>\n",
       "      <td>5</td>\n",
       "      <td>Re: PJM RTO Order Great summary.  I think the ...</td>\n",
       "      <td>3277</td>\n",
       "      <td>570</td>\n",
       "    </tr>\n",
       "  </tbody>\n",
       "</table>\n",
       "</div>"
      ],
      "text/plain": [
       "   Class                                               text  num_characters  \\\n",
       "0      3  Regulatory Roundtable, in 49C2 \\nKRTH? 9:10 - ...              71   \n",
       "1      0  Linda Jenkins on \"Jerry's Show\" Monday fyi\\n--...            1145   \n",
       "2      0  Re: Update -- Project 100 It's fine with me.\\n...             912   \n",
       "3      0  Re: Senator Feinstein yes\\n\\n\\n\\n\\tLinda Rober...             516   \n",
       "4      5  Re: PJM RTO Order Great summary.  I think the ...            3277   \n",
       "\n",
       "   num_words  \n",
       "0         13  \n",
       "1        238  \n",
       "2        188  \n",
       "3         98  \n",
       "4        570  "
      ]
     },
     "execution_count": 21,
     "metadata": {},
     "output_type": "execute_result"
    }
   ],
   "source": [
    "df.head()"
   ]
  },
  {
   "cell_type": "code",
   "execution_count": 22,
   "id": "702e6f1e",
   "metadata": {},
   "outputs": [],
   "source": [
    "# getting number of sentences\n",
    "df['num_sentences'] = df['text'].apply(lambda x:len(nltk.sent_tokenize(x)))"
   ]
  },
  {
   "cell_type": "code",
   "execution_count": 23,
   "id": "6c723589",
   "metadata": {},
   "outputs": [
    {
     "data": {
      "text/html": [
       "<div>\n",
       "<style scoped>\n",
       "    .dataframe tbody tr th:only-of-type {\n",
       "        vertical-align: middle;\n",
       "    }\n",
       "\n",
       "    .dataframe tbody tr th {\n",
       "        vertical-align: top;\n",
       "    }\n",
       "\n",
       "    .dataframe thead th {\n",
       "        text-align: right;\n",
       "    }\n",
       "</style>\n",
       "<table border=\"1\" class=\"dataframe\">\n",
       "  <thead>\n",
       "    <tr style=\"text-align: right;\">\n",
       "      <th></th>\n",
       "      <th>num_characters</th>\n",
       "      <th>num_words</th>\n",
       "      <th>num_sentences</th>\n",
       "    </tr>\n",
       "  </thead>\n",
       "  <tbody>\n",
       "    <tr>\n",
       "      <th>count</th>\n",
       "      <td>1663.00000</td>\n",
       "      <td>1663.000000</td>\n",
       "      <td>1663.000000</td>\n",
       "    </tr>\n",
       "    <tr>\n",
       "      <th>mean</th>\n",
       "      <td>6903.27721</td>\n",
       "      <td>1290.043295</td>\n",
       "      <td>40.431149</td>\n",
       "    </tr>\n",
       "    <tr>\n",
       "      <th>std</th>\n",
       "      <td>24439.43850</td>\n",
       "      <td>4562.487832</td>\n",
       "      <td>152.085676</td>\n",
       "    </tr>\n",
       "    <tr>\n",
       "      <th>min</th>\n",
       "      <td>9.00000</td>\n",
       "      <td>2.000000</td>\n",
       "      <td>1.000000</td>\n",
       "    </tr>\n",
       "    <tr>\n",
       "      <th>25%</th>\n",
       "      <td>623.00000</td>\n",
       "      <td>124.000000</td>\n",
       "      <td>4.000000</td>\n",
       "    </tr>\n",
       "    <tr>\n",
       "      <th>50%</th>\n",
       "      <td>1398.00000</td>\n",
       "      <td>279.000000</td>\n",
       "      <td>9.000000</td>\n",
       "    </tr>\n",
       "    <tr>\n",
       "      <th>75%</th>\n",
       "      <td>2867.00000</td>\n",
       "      <td>548.000000</td>\n",
       "      <td>18.000000</td>\n",
       "    </tr>\n",
       "    <tr>\n",
       "      <th>max</th>\n",
       "      <td>229271.00000</td>\n",
       "      <td>43340.000000</td>\n",
       "      <td>2111.000000</td>\n",
       "    </tr>\n",
       "  </tbody>\n",
       "</table>\n",
       "</div>"
      ],
      "text/plain": [
       "       num_characters     num_words  num_sentences\n",
       "count      1663.00000   1663.000000    1663.000000\n",
       "mean       6903.27721   1290.043295      40.431149\n",
       "std       24439.43850   4562.487832     152.085676\n",
       "min           9.00000      2.000000       1.000000\n",
       "25%         623.00000    124.000000       4.000000\n",
       "50%        1398.00000    279.000000       9.000000\n",
       "75%        2867.00000    548.000000      18.000000\n",
       "max      229271.00000  43340.000000    2111.000000"
      ]
     },
     "execution_count": 23,
     "metadata": {},
     "output_type": "execute_result"
    }
   ],
   "source": [
    "df[['num_characters','num_words','num_sentences']].describe()"
   ]
  },
  {
   "cell_type": "code",
   "execution_count": 24,
   "id": "bf4de7ca",
   "metadata": {},
   "outputs": [
    {
     "data": {
      "text/plain": [
       "<AxesSubplot:xlabel='num_sentences', ylabel='Count'>"
      ]
     },
     "execution_count": 24,
     "metadata": {},
     "output_type": "execute_result"
    },
    {
     "data": {
      "image/png": "[encoded data removed]",
      "text/plain": [
       "<Figure size 864x432 with 1 Axes>"
      ]
     },
     "metadata": {
      "needs_background": "light"
     },
     "output_type": "display_data"
    }
   ],
   "source": [
    "import seaborn as sns\n",
    "plt.figure(figsize=(12,6))\n",
    "sns.histplot(df[df['Class'] == 0]['num_sentences'], color='green',bins=50)\n",
    "sns.histplot(df[df['Class'] == 3]['num_sentences'],color='red',bins=50)"
   ]
  },
  {
   "cell_type": "code",
   "execution_count": 25,
   "id": "b1eddeb7",
   "metadata": {},
   "outputs": [],
   "source": [
    "import string\n",
    "from nltk.corpus import stopwords\n",
    "def transform_text(text):\n",
    "    text = text.lower()\n",
    "    text = nltk.word_tokenize(text)\n",
    "    y = []\n",
    "    for i in text:\n",
    "        if i not in stopwords.words('english') and i not in string.punctuation:\n",
    "            y.append(lm.lemmatize(i))        \n",
    "    return \" \".join(y)"
   ]
  },
  {
   "cell_type": "code",
   "execution_count": 26,
   "id": "5441d18a",
   "metadata": {},
   "outputs": [
    {
     "name": "stderr",
     "output_type": "stream",
     "text": [
      "[nltk_data] Downloading package wordnet to\n",
      "[nltk_data]     C:\\Users\\Atul\\AppData\\Roaming\\nltk_data...\n",
      "[nltk_data]   Package wordnet is already up-to-date!\n",
      "[nltk_data] Downloading package omw-1.4 to\n",
      "[nltk_data]     C:\\Users\\Atul\\AppData\\Roaming\\nltk_data...\n",
      "[nltk_data]   Package omw-1.4 is already up-to-date!\n"
     ]
    },
    {
     "data": {
      "text/plain": [
       "True"
      ]
     },
     "execution_count": 26,
     "metadata": {},
     "output_type": "execute_result"
    }
   ],
   "source": [
    "import nltk\n",
    "nltk.download('wordnet')\n",
    "nltk.download('omw-1.4')"
   ]
  },
  {
   "cell_type": "code",
   "execution_count": 27,
   "id": "8cb286d7",
   "metadata": {},
   "outputs": [],
   "source": [
    "import re\n",
    "def preprocess(x):\n",
    "    x = re.sub(r'[^a-zA-Z]',' ', x)\n",
    "    # lowercasing all the words\n",
    "    x = x.lower()\n",
    "    # remove extra new lines\n",
    "    x = re.sub(r'\\n+', ' ', x)\n",
    "    \n",
    "    # removing (replacing with empty spaces actually) all the punctuations\n",
    "    x = re.sub(\"[\"+string.punctuation+\"]\",\" \", x)\n",
    "    \n",
    "\n",
    "    \n",
    "    return x"
   ]
  },
  {
   "cell_type": "code",
   "execution_count": 28,
   "id": "e531a110",
   "metadata": {},
   "outputs": [],
   "source": [
    "df.loc[:,'text'] = df.loc[:,'text'].map(preprocess)"
   ]
  },
  {
   "cell_type": "code",
   "execution_count": 29,
   "id": "ac3909ac",
   "metadata": {},
   "outputs": [
    {
     "data": {
      "text/html": [
       "<div>\n",
       "<style scoped>\n",
       "    .dataframe tbody tr th:only-of-type {\n",
       "        vertical-align: middle;\n",
       "    }\n",
       "\n",
       "    .dataframe tbody tr th {\n",
       "        vertical-align: top;\n",
       "    }\n",
       "\n",
       "    .dataframe thead th {\n",
       "        text-align: right;\n",
       "    }\n",
       "</style>\n",
       "<table border=\"1\" class=\"dataframe\">\n",
       "  <thead>\n",
       "    <tr style=\"text-align: right;\">\n",
       "      <th></th>\n",
       "      <th>Class</th>\n",
       "      <th>text</th>\n",
       "      <th>num_characters</th>\n",
       "      <th>num_words</th>\n",
       "      <th>num_sentences</th>\n",
       "    </tr>\n",
       "  </thead>\n",
       "  <tbody>\n",
       "    <tr>\n",
       "      <th>0</th>\n",
       "      <td>3</td>\n",
       "      <td>regulatory roundtable  in   c   krth          ...</td>\n",
       "      <td>71</td>\n",
       "      <td>13</td>\n",
       "      <td>2</td>\n",
       "    </tr>\n",
       "    <tr>\n",
       "      <th>1</th>\n",
       "      <td>0</td>\n",
       "      <td>linda jenkins on  jerry s show  monday fyi    ...</td>\n",
       "      <td>1145</td>\n",
       "      <td>238</td>\n",
       "      <td>6</td>\n",
       "    </tr>\n",
       "    <tr>\n",
       "      <th>2</th>\n",
       "      <td>0</td>\n",
       "      <td>re  update    project     it s fine with me   ...</td>\n",
       "      <td>912</td>\n",
       "      <td>188</td>\n",
       "      <td>10</td>\n",
       "    </tr>\n",
       "    <tr>\n",
       "      <th>3</th>\n",
       "      <td>0</td>\n",
       "      <td>re  senator feinstein yes     linda robertson ...</td>\n",
       "      <td>516</td>\n",
       "      <td>98</td>\n",
       "      <td>6</td>\n",
       "    </tr>\n",
       "    <tr>\n",
       "      <th>4</th>\n",
       "      <td>5</td>\n",
       "      <td>re  pjm rto order great summary   i think the ...</td>\n",
       "      <td>3277</td>\n",
       "      <td>570</td>\n",
       "      <td>11</td>\n",
       "    </tr>\n",
       "  </tbody>\n",
       "</table>\n",
       "</div>"
      ],
      "text/plain": [
       "   Class                                               text  num_characters  \\\n",
       "0      3  regulatory roundtable  in   c   krth          ...              71   \n",
       "1      0  linda jenkins on  jerry s show  monday fyi    ...            1145   \n",
       "2      0  re  update    project     it s fine with me   ...             912   \n",
       "3      0  re  senator feinstein yes     linda robertson ...             516   \n",
       "4      5  re  pjm rto order great summary   i think the ...            3277   \n",
       "\n",
       "   num_words  num_sentences  \n",
       "0         13              2  \n",
       "1        238              6  \n",
       "2        188             10  \n",
       "3         98              6  \n",
       "4        570             11  "
      ]
     },
     "execution_count": 29,
     "metadata": {},
     "output_type": "execute_result"
    }
   ],
   "source": [
    "df.head()"
   ]
  },
  {
   "cell_type": "code",
   "execution_count": 30,
   "id": "ef6fd16f",
   "metadata": {},
   "outputs": [],
   "source": [
    "from nltk.stem import WordNetLemmatizer \n",
    "lm = WordNetLemmatizer()\n",
    "df['transformed_text'] = df['text'].apply(transform_text)"
   ]
  },
  {
   "cell_type": "code",
   "execution_count": 31,
   "id": "85aa7911",
   "metadata": {},
   "outputs": [
    {
     "data": {
      "text/html": [
       "<div>\n",
       "<style scoped>\n",
       "    .dataframe tbody tr th:only-of-type {\n",
       "        vertical-align: middle;\n",
       "    }\n",
       "\n",
       "    .dataframe tbody tr th {\n",
       "        vertical-align: top;\n",
       "    }\n",
       "\n",
       "    .dataframe thead th {\n",
       "        text-align: right;\n",
       "    }\n",
       "</style>\n",
       "<table border=\"1\" class=\"dataframe\">\n",
       "  <thead>\n",
       "    <tr style=\"text-align: right;\">\n",
       "      <th></th>\n",
       "      <th>Class</th>\n",
       "      <th>text</th>\n",
       "      <th>num_characters</th>\n",
       "      <th>num_words</th>\n",
       "      <th>num_sentences</th>\n",
       "      <th>transformed_text</th>\n",
       "    </tr>\n",
       "  </thead>\n",
       "  <tbody>\n",
       "    <tr>\n",
       "      <th>0</th>\n",
       "      <td>3</td>\n",
       "      <td>regulatory roundtable  in   c   krth          ...</td>\n",
       "      <td>71</td>\n",
       "      <td>13</td>\n",
       "      <td>2</td>\n",
       "      <td>regulatory roundtable c krth jp pritchard</td>\n",
       "    </tr>\n",
       "    <tr>\n",
       "      <th>1</th>\n",
       "      <td>0</td>\n",
       "      <td>linda jenkins on  jerry s show  monday fyi    ...</td>\n",
       "      <td>1145</td>\n",
       "      <td>238</td>\n",
       "      <td>6</td>\n",
       "      <td>linda jenkins jerry show monday fyi forwarded ...</td>\n",
       "    </tr>\n",
       "    <tr>\n",
       "      <th>2</th>\n",
       "      <td>0</td>\n",
       "      <td>re  update    project     it s fine with me   ...</td>\n",
       "      <td>912</td>\n",
       "      <td>188</td>\n",
       "      <td>10</td>\n",
       "      <td>update project fine mary clark steven j kean n...</td>\n",
       "    </tr>\n",
       "    <tr>\n",
       "      <th>3</th>\n",
       "      <td>0</td>\n",
       "      <td>re  senator feinstein yes     linda robertson ...</td>\n",
       "      <td>516</td>\n",
       "      <td>98</td>\n",
       "      <td>6</td>\n",
       "      <td>senator feinstein yes linda robertson steven j...</td>\n",
       "    </tr>\n",
       "    <tr>\n",
       "      <th>4</th>\n",
       "      <td>5</td>\n",
       "      <td>re  pjm rto order great summary   i think the ...</td>\n",
       "      <td>3277</td>\n",
       "      <td>570</td>\n",
       "      <td>11</td>\n",
       "      <td>pjm rto order great summary think two main iss...</td>\n",
       "    </tr>\n",
       "  </tbody>\n",
       "</table>\n",
       "</div>"
      ],
      "text/plain": [
       "   Class                                               text  num_characters  \\\n",
       "0      3  regulatory roundtable  in   c   krth          ...              71   \n",
       "1      0  linda jenkins on  jerry s show  monday fyi    ...            1145   \n",
       "2      0  re  update    project     it s fine with me   ...             912   \n",
       "3      0  re  senator feinstein yes     linda robertson ...             516   \n",
       "4      5  re  pjm rto order great summary   i think the ...            3277   \n",
       "\n",
       "   num_words  num_sentences                                   transformed_text  \n",
       "0         13              2          regulatory roundtable c krth jp pritchard  \n",
       "1        238              6  linda jenkins jerry show monday fyi forwarded ...  \n",
       "2        188             10  update project fine mary clark steven j kean n...  \n",
       "3         98              6  senator feinstein yes linda robertson steven j...  \n",
       "4        570             11  pjm rto order great summary think two main iss...  "
      ]
     },
     "execution_count": 31,
     "metadata": {},
     "output_type": "execute_result"
    }
   ],
   "source": [
    "df.head()"
   ]
  },
  {
   "cell_type": "code",
   "execution_count": 32,
   "id": "319d1370",
   "metadata": {},
   "outputs": [],
   "source": [
    "company_corpus = []\n",
    "for msg in df[df['Class'] == 0]['transformed_text'].tolist():\n",
    "    for word in msg.split():\n",
    "        company_corpus.append(word)"
   ]
  },
  {
   "cell_type": "code",
   "execution_count": 33,
   "id": "09401940",
   "metadata": {},
   "outputs": [
    {
     "data": {
      "text/plain": [
       "890232"
      ]
     },
     "execution_count": 33,
     "metadata": {},
     "output_type": "execute_result"
    }
   ],
   "source": [
    "len(company_corpus)"
   ]
  },
  {
   "cell_type": "code",
   "execution_count": 34,
   "id": "ca1fdee7",
   "metadata": {},
   "outputs": [
    {
     "name": "stderr",
     "output_type": "stream",
     "text": [
      "C:\\Users\\Atul\\anaconda33\\lib\\site-packages\\seaborn\\_decorators.py:36: FutureWarning: Pass the following variables as keyword args: x, y. From version 0.12, the only valid positional argument will be `data`, and passing other arguments without an explicit keyword will result in an error or misinterpretation.\n",
      "  warnings.warn(\n"
     ]
    },
    {
     "data": {
      "image/png": "[encoded data removed]",
      "text/plain": [
       "<Figure size 432x288 with 1 Axes>"
      ]
     },
     "metadata": {
      "needs_background": "light"
     },
     "output_type": "display_data"
    }
   ],
   "source": [
    "from collections import Counter\n",
    "sns.barplot(pd.DataFrame(Counter(company_corpus).most_common(30))[0],pd.DataFrame(Counter(company_corpus).most_common(30))[1])\n",
    "plt.xticks(rotation='vertical')\n",
    "plt.show()"
   ]
  },
  {
   "cell_type": "code",
   "execution_count": 35,
   "id": "a5e1e705",
   "metadata": {},
   "outputs": [
    {
     "name": "stderr",
     "output_type": "stream",
     "text": [
      "C:\\Users\\Atul\\anaconda33\\lib\\site-packages\\seaborn\\_decorators.py:36: FutureWarning: Pass the following variables as keyword args: x, y. From version 0.12, the only valid positional argument will be `data`, and passing other arguments without an explicit keyword will result in an error or misinterpretation.\n",
      "  warnings.warn(\n"
     ]
    },
    {
     "data": {
      "image/png": "[encoded data removed]",
      "text/plain": [
       "<Figure size 432x288 with 1 Axes>"
      ]
     },
     "metadata": {
      "needs_background": "light"
     },
     "output_type": "display_data"
    }
   ],
   "source": [
    "company_corpus = []\n",
    "for msg in df[df['Class'] == 1]['transformed_text'].tolist():\n",
    "    for word in msg.split():\n",
    "        company_corpus.append(word)\n",
    "sns.barplot(pd.DataFrame(Counter(company_corpus).most_common(30))[0],pd.DataFrame(Counter(company_corpus).most_common(30))[1])\n",
    "plt.xticks(rotation='vertical')\n",
    "plt.show()"
   ]
  },
  {
   "cell_type": "code",
   "execution_count": 36,
   "id": "aa74a3da",
   "metadata": {},
   "outputs": [
    {
     "name": "stderr",
     "output_type": "stream",
     "text": [
      "C:\\Users\\Atul\\anaconda33\\lib\\site-packages\\seaborn\\_decorators.py:36: FutureWarning: Pass the following variables as keyword args: x, y. From version 0.12, the only valid positional argument will be `data`, and passing other arguments without an explicit keyword will result in an error or misinterpretation.\n",
      "  warnings.warn(\n"
     ]
    },
    {
     "data": {
      "image/png": "[encoded data removed]",
      "text/plain": [
       "<Figure size 432x288 with 1 Axes>"
      ]
     },
     "metadata": {
      "needs_background": "light"
     },
     "output_type": "display_data"
    }
   ],
   "source": [
    "company_corpus = []\n",
    "for msg in df[df['Class'] == 3]['transformed_text'].tolist():\n",
    "    for word in msg.split():\n",
    "        company_corpus.append(word)\n",
    "sns.barplot(pd.DataFrame(Counter(company_corpus).most_common(30))[0],pd.DataFrame(Counter(company_corpus).most_common(30))[1])\n",
    "plt.xticks(rotation='vertical')\n",
    "plt.show()"
   ]
  },
  {
   "cell_type": "markdown",
   "id": "f8a25faa",
   "metadata": {},
   "source": [
    "### Model Building "
   ]
  },
  {
   "cell_type": "code",
   "execution_count": 37,
   "id": "42da7d83",
   "metadata": {},
   "outputs": [
    {
     "name": "stdout",
     "output_type": "stream",
     "text": [
      "1330\n",
      "333\n"
     ]
    }
   ],
   "source": [
    "X=df['transformed_text']\n",
    "y=df['Class'].values\n",
    "X_train, X_test, y_train, y_test = train_test_split(X, y, test_size=0.2,random_state=42)\n",
    "print(len(y_train))\n",
    "print(len(y_test))\n"
   ]
  },
  {
   "cell_type": "code",
   "execution_count": 38,
   "id": "2de66753",
   "metadata": {},
   "outputs": [
    {
     "data": {
      "text/plain": [
       "(1330, 10000)"
      ]
     },
     "execution_count": 38,
     "metadata": {},
     "output_type": "execute_result"
    }
   ],
   "source": [
    "from sklearn.feature_extraction.text import CountVectorizer,TfidfVectorizer\n",
    "cv = CountVectorizer()\n",
    "vectorizer = TfidfVectorizer(max_features=10000)\n",
    "vectortrain = vectorizer.fit_transform(X_train).toarray()\n",
    "vectortrain.shape"
   ]
  },
  {
   "cell_type": "code",
   "execution_count": 39,
   "id": "73bf20f5",
   "metadata": {},
   "outputs": [],
   "source": [
    "vectortest = vectorizer.transform(X_test).toarray()"
   ]
  },
  {
   "cell_type": "code",
   "execution_count": 40,
   "id": "123cc82b",
   "metadata": {},
   "outputs": [],
   "source": [
    "from sklearn.naive_bayes import GaussianNB,MultinomialNB,BernoulliNB\n",
    "from sklearn.metrics import accuracy_score,confusion_matrix,precision_score,classification_report\n",
    "gnb = GaussianNB()\n",
    "mnb = MultinomialNB(alpha=0.01, class_prior=None, fit_prior=True)\n",
    "bnb = BernoulliNB()"
   ]
  },
  {
   "cell_type": "code",
   "execution_count": 41,
   "id": "ccbc4c8f",
   "metadata": {},
   "outputs": [
    {
     "name": "stdout",
     "output_type": "stream",
     "text": [
      "0.6216216216216216\n",
      "              precision    recall  f1-score   support\n",
      "\n",
      "           1       0.66      0.88      0.75       179\n",
      "           2       0.50      0.33      0.40         6\n",
      "           3       0.21      0.21      0.21        14\n",
      "           4       0.62      0.37      0.47        94\n",
      "           5       0.60      0.21      0.32        14\n",
      "           6       0.44      0.27      0.33        26\n",
      "\n",
      "    accuracy                           0.62       333\n",
      "   macro avg       0.51      0.38      0.41       333\n",
      "weighted avg       0.61      0.62      0.59       333\n",
      "\n"
     ]
    }
   ],
   "source": [
    "gnb.fit(vectortrain, y_train)\n",
    "pred = gnb.predict(vectortest)\n",
    "print(accuracy_score(y_test, pred))\n",
    "print(classification_report(y_test, pred, target_names=data.target_names))"
   ]
  },
  {
   "cell_type": "code",
   "execution_count": 42,
   "id": "6492127b",
   "metadata": {},
   "outputs": [
    {
     "name": "stdout",
     "output_type": "stream",
     "text": [
      "0.7147147147147147\n",
      "              precision    recall  f1-score   support\n",
      "\n",
      "           1       0.80      0.84      0.82       179\n",
      "           2       1.00      0.33      0.50         6\n",
      "           3       0.14      0.14      0.14        14\n",
      "           4       0.64      0.71      0.68        94\n",
      "           5       0.67      0.29      0.40        14\n",
      "           6       0.65      0.50      0.57        26\n",
      "\n",
      "    accuracy                           0.71       333\n",
      "   macro avg       0.65      0.47      0.52       333\n",
      "weighted avg       0.72      0.71      0.71       333\n",
      "\n"
     ]
    }
   ],
   "source": [
    "mnb.fit(vectortrain, y_train)\n",
    "pred = mnb.predict(vectortest)\n",
    "print(accuracy_score(y_test, pred))\n",
    "print(classification_report(y_test, pred, target_names=data.target_names))"
   ]
  },
  {
   "cell_type": "code",
   "execution_count": 43,
   "id": "77af9df7",
   "metadata": {},
   "outputs": [
    {
     "name": "stdout",
     "output_type": "stream",
     "text": [
      "0.4444444444444444\n",
      "              precision    recall  f1-score   support\n",
      "\n",
      "           1       0.93      0.28      0.43       179\n",
      "           2       1.00      0.17      0.29         6\n",
      "           3       0.00      0.00      0.00        14\n",
      "           4       0.36      0.99      0.53        94\n",
      "           5       0.00      0.00      0.00        14\n",
      "           6       0.22      0.15      0.18        26\n",
      "\n",
      "    accuracy                           0.44       333\n",
      "   macro avg       0.42      0.26      0.24       333\n",
      "weighted avg       0.63      0.44      0.40       333\n",
      "\n"
     ]
    }
   ],
   "source": [
    "bnb.fit(vectortrain, y_train)\n",
    "pred = bnb.predict(vectortest)\n",
    "print(accuracy_score(y_test, pred))\n",
    "print(classification_report(y_test, pred, target_names=data.target_names))"
   ]
  },
  {
   "cell_type": "code",
   "execution_count": 44,
   "id": "2426698c",
   "metadata": {},
   "outputs": [
    {
     "name": "stdout",
     "output_type": "stream",
     "text": [
      "0.7147147147147147\n",
      "              precision    recall  f1-score   support\n",
      "\n",
      "           1       0.71      0.91      0.80       179\n",
      "           2       1.00      0.33      0.50         6\n",
      "           3       0.33      0.14      0.20        14\n",
      "           4       0.73      0.67      0.70        94\n",
      "           5       1.00      0.21      0.35        14\n",
      "           6       0.62      0.19      0.29        26\n",
      "\n",
      "    accuracy                           0.71       333\n",
      "   macro avg       0.73      0.41      0.47       333\n",
      "weighted avg       0.71      0.71      0.68       333\n",
      "\n"
     ]
    }
   ],
   "source": [
    "from sklearn.ensemble import RandomForestClassifier\n",
    "rf = RandomForestClassifier(n_estimators = 200, random_state = 42)\n",
    "rf.fit(vectortrain, y_train)\n",
    "pred = rf.predict(vectortest)\n",
    "print(accuracy_score(y_test, pred))\n",
    "print(classification_report(y_test, pred, target_names=data.target_names))\n"
   ]
  },
  {
   "cell_type": "code",
   "execution_count": 45,
   "id": "773c0a50",
   "metadata": {},
   "outputs": [
    {
     "name": "stdout",
     "output_type": "stream",
     "text": [
      "0.7327327327327328\n",
      "              precision    recall  f1-score   support\n",
      "\n",
      "           1       0.73      0.91      0.81       179\n",
      "           2       1.00      0.33      0.50         6\n",
      "           3       0.43      0.21      0.29        14\n",
      "           4       0.75      0.71      0.73        94\n",
      "           5       1.00      0.29      0.44        14\n",
      "           6       0.60      0.23      0.33        26\n",
      "\n",
      "    accuracy                           0.73       333\n",
      "   macro avg       0.75      0.45      0.52       333\n",
      "weighted avg       0.73      0.73      0.71       333\n",
      "\n"
     ]
    }
   ],
   "source": [
    "\n",
    "penalized = RandomForestClassifier(n_estimators = 200, \n",
    "                               class_weight='balanced', # penalize\n",
    "                               random_state = 42)\n",
    "# Train the model on training data\n",
    "penalized.fit(vectortrain, y_train)\n",
    "pred = penalized.predict(vectortest)\n",
    "print(accuracy_score(y_test, pred))\n",
    "print(classification_report(y_test, pred, target_names=data.target_names))"
   ]
  },
  {
   "cell_type": "code",
   "execution_count": 50,
   "id": "d49f44ff",
   "metadata": {},
   "outputs": [],
   "source": [
    "\n",
    "from sklearn.svm import SVC\n",
    "from sklearn.naive_bayes import MultinomialNB\n",
    "from sklearn.ensemble import RandomForestClassifier\n",
    "from sklearn.ensemble import AdaBoostClassifier\n",
    "from xgboost import XGBClassifier"
   ]
  },
  {
   "cell_type": "code",
   "execution_count": 51,
   "id": "7aa2a1a4",
   "metadata": {},
   "outputs": [],
   "source": [
    "svc = SVC(kernel='poly')\n",
    "mnb = MultinomialNB()\n",
    "rfc = RandomForestClassifier(n_estimators=100, random_state=2)\n",
    "abc = AdaBoostClassifier(n_estimators=100, random_state=2)\n",
    "xgb = XGBClassifier(n_estimators=100,random_state=2)"
   ]
  },
  {
   "cell_type": "code",
   "execution_count": 52,
   "id": "4a856b50",
   "metadata": {},
   "outputs": [],
   "source": [
    "clfs = {\n",
    "    'SVC' : svc, \n",
    "    'NB': mnb,  \n",
    "    'RF': rfc, \n",
    "    'AdaBoost': abc, \n",
    "    'xgb':xgb\n",
    "}"
   ]
  },
  {
   "cell_type": "code",
   "execution_count": 53,
   "id": "ac3b4f13",
   "metadata": {},
   "outputs": [],
   "source": [
    "def train_classifier(clf,X_train,y_train,X_test,y_test):\n",
    "    clf.fit(X_train,y_train)\n",
    "    pred = clf.predict(X_test)\n",
    "    accuracy = accuracy_score(y_test, pred)\n",
    "    \n",
    "    return accuracy\n"
   ]
  },
  {
   "cell_type": "code",
   "execution_count": 54,
   "id": "1be80890",
   "metadata": {},
   "outputs": [
    {
     "name": "stdout",
     "output_type": "stream",
     "text": [
      "For  SVC\n",
      "Accuracy:  0.6186186186186187\n",
      "For  NB\n",
      "Accuracy:  0.6156156156156156\n",
      "For  RF\n",
      "Accuracy:  0.7237237237237237\n",
      "For  AdaBoost\n",
      "Accuracy:  0.5015015015015015\n",
      "For  xgb\n",
      "Accuracy:  0.7207207207207207\n"
     ]
    }
   ],
   "source": [
    "for name,clf in clfs.items():\n",
    "    accuracy = train_classifier(clf,vectortrain, y_train,vectortest,y_test)\n",
    "    \n",
    "    print(\"For \",name)\n",
    "    print(\"Accuracy: \",accuracy)\n"
   ]
  },
  {
   "cell_type": "code",
   "execution_count": 55,
   "id": "79460db8",
   "metadata": {},
   "outputs": [
    {
     "data": {
      "text/plain": [
       "(1330, 10000)"
      ]
     },
     "execution_count": 55,
     "metadata": {},
     "output_type": "execute_result"
    }
   ],
   "source": [
    "cv= CountVectorizer(ngram_range=(1,2),max_features=10000)\n",
    "vectortrain1 = cv.fit_transform(X_train).toarray()\n",
    "vectortest1 = vectorizer.transform(X_test).toarray()\n",
    "vectortrain1.shape"
   ]
  },
  {
   "cell_type": "code",
   "execution_count": 56,
   "id": "832382fa",
   "metadata": {},
   "outputs": [
    {
     "name": "stdout",
     "output_type": "stream",
     "text": [
      "0.5435435435435435\n",
      "              precision    recall  f1-score   support\n",
      "\n",
      "           1       0.54      1.00      0.70       179\n",
      "           2       0.00      0.00      0.00         6\n",
      "           3       0.00      0.00      0.00        14\n",
      "           4       0.67      0.02      0.04        94\n",
      "           5       0.00      0.00      0.00        14\n",
      "           6       0.00      0.00      0.00        26\n",
      "\n",
      "    accuracy                           0.54       333\n",
      "   macro avg       0.20      0.17      0.12       333\n",
      "weighted avg       0.48      0.54      0.39       333\n",
      "\n"
     ]
    },
    {
     "name": "stderr",
     "output_type": "stream",
     "text": [
      "C:\\Users\\Atul\\anaconda33\\lib\\site-packages\\sklearn\\metrics\\_classification.py:1318: UndefinedMetricWarning: Precision and F-score are ill-defined and being set to 0.0 in labels with no predicted samples. Use `zero_division` parameter to control this behavior.\n",
      "  _warn_prf(average, modifier, msg_start, len(result))\n",
      "C:\\Users\\Atul\\anaconda33\\lib\\site-packages\\sklearn\\metrics\\_classification.py:1318: UndefinedMetricWarning: Precision and F-score are ill-defined and being set to 0.0 in labels with no predicted samples. Use `zero_division` parameter to control this behavior.\n",
      "  _warn_prf(average, modifier, msg_start, len(result))\n",
      "C:\\Users\\Atul\\anaconda33\\lib\\site-packages\\sklearn\\metrics\\_classification.py:1318: UndefinedMetricWarning: Precision and F-score are ill-defined and being set to 0.0 in labels with no predicted samples. Use `zero_division` parameter to control this behavior.\n",
      "  _warn_prf(average, modifier, msg_start, len(result))\n"
     ]
    }
   ],
   "source": [
    "mnb1 = MultinomialNB(alpha=0.01, class_prior=None, fit_prior=True)\n",
    "mnb1.fit(vectortrain1, y_train)\n",
    "pred = mnb1.predict(vectortest1)\n",
    "print(accuracy_score(y_test, pred))\n",
    "print(classification_report(y_test, pred, target_names=data.target_names))"
   ]
  },
  {
   "cell_type": "code",
   "execution_count": 58,
   "id": "b2d3ff69",
   "metadata": {},
   "outputs": [
    {
     "name": "stdout",
     "output_type": "stream",
     "text": [
      "Defaulting to user installation because normal site-packages is not writeable\n",
      "Requirement already satisfied: imblearn in c:\\users\\atul\\appdata\\roaming\\python\\python310\\site-packages (0.0)\n",
      "Requirement already satisfied: imbalanced-learn in c:\\users\\atul\\appdata\\roaming\\python\\python310\\site-packages (from imblearn) (0.9.1)\n",
      "Requirement already satisfied: threadpoolctl>=2.0.0 in c:\\users\\atul\\appdata\\roaming\\python\\python310\\site-packages (from imbalanced-learn->imblearn) (3.1.0)\n",
      "Requirement already satisfied: joblib>=1.0.0 in c:\\users\\atul\\appdata\\roaming\\python\\python310\\site-packages (from imbalanced-learn->imblearn) (1.1.0)\n",
      "Requirement already satisfied: numpy>=1.17.3 in c:\\users\\atul\\appdata\\roaming\\python\\python310\\site-packages (from imbalanced-learn->imblearn) (1.23.1)\n",
      "Requirement already satisfied: scikit-learn>=1.1.0 in c:\\users\\atul\\appdata\\roaming\\python\\python310\\site-packages (from imbalanced-learn->imblearn) (1.1.2)\n",
      "Requirement already satisfied: scipy>=1.3.2 in c:\\users\\atul\\appdata\\roaming\\python\\python310\\site-packages (from imbalanced-learn->imblearn) (1.9.0)\n"
     ]
    }
   ],
   "source": [
    "!pip install imblearn\n"
   ]
  },
  {
   "cell_type": "code",
   "execution_count": 59,
   "id": "07e35b30",
   "metadata": {},
   "outputs": [
    {
     "ename": "ModuleNotFoundError",
     "evalue": "No module named 'imblearn'",
     "output_type": "error",
     "traceback": [
      "\u001b[1;31m---------------------------------------------------------------------------\u001b[0m",
      "\u001b[1;31mModuleNotFoundError\u001b[0m                       Traceback (most recent call last)",
      "Input \u001b[1;32mIn [59]\u001b[0m, in \u001b[0;36m<cell line: 1>\u001b[1;34m()\u001b[0m\n\u001b[1;32m----> 1\u001b[0m \u001b[38;5;28;01mfrom\u001b[39;00m \u001b[38;5;21;01mimblearn\u001b[39;00m\u001b[38;5;21;01m.\u001b[39;00m\u001b[38;5;21;01mensemble\u001b[39;00m \u001b[38;5;28;01mimport\u001b[39;00m BalancedBaggingClassifier\n\u001b[0;32m      2\u001b[0m \u001b[38;5;28;01mfrom\u001b[39;00m \u001b[38;5;21;01msklearn\u001b[39;00m\u001b[38;5;21;01m.\u001b[39;00m\u001b[38;5;21;01mtree\u001b[39;00m \u001b[38;5;28;01mimport\u001b[39;00m DecisionTreeClassifier\n\u001b[0;32m      3\u001b[0m \u001b[38;5;66;03m#Create an instance\u001b[39;00m\n",
      "\u001b[1;31mModuleNotFoundError\u001b[0m: No module named 'imblearn'"
     ]
    }
   ],
   "source": [
    "from imblearn.ensemble import BalancedBaggingClassifier\n",
    "from sklearn.tree import DecisionTreeClassifier\n",
    "#Create an instance\n",
    "classifier = BalancedBaggingClassifier(base_estimator=DecisionTreeClassifier(),\n",
    "                                sampling_strategy='not majority',\n",
    "                                replacement=False,\n",
    "                                random_state=42)\n",
    "classifier.fit(vectortrain, y_train)\n",
    "pred = classifier.predict(vectortest)\n",
    "print(accuracy_score(y_test, pred))\n"
   ]
  },
  {
   "cell_type": "markdown",
   "id": "71cbb883",
   "metadata": {},
   "source": [
    "## Data Augmentation"
   ]
  },
  {
   "cell_type": "code",
   "execution_count": 1,
   "id": "ca5f3871",
   "metadata": {},
   "outputs": [
    {
     "ename": "ModuleNotFoundError",
     "evalue": "No module named 'nlpaug'",
     "output_type": "error",
     "traceback": [
      "\u001b[1;31m---------------------------------------------------------------------------\u001b[0m",
      "\u001b[1;31mModuleNotFoundError\u001b[0m                       Traceback (most recent call last)",
      "Input \u001b[1;32mIn [1]\u001b[0m, in \u001b[0;36m<cell line: 1>\u001b[1;34m()\u001b[0m\n\u001b[1;32m----> 1\u001b[0m \u001b[38;5;28;01mimport\u001b[39;00m \u001b[38;5;21;01mnlpaug\u001b[39;00m\u001b[38;5;21;01m.\u001b[39;00m\u001b[38;5;21;01maugmenter\u001b[39;00m\u001b[38;5;21;01m.\u001b[39;00m\u001b[38;5;21;01mword\u001b[39;00m\u001b[38;5;21;01m.\u001b[39;00m\u001b[38;5;21;01mcontext_word_embs\u001b[39;00m \u001b[38;5;28;01mas\u001b[39;00m \u001b[38;5;21;01maug\u001b[39;00m\n\u001b[0;32m      2\u001b[0m augmenter \u001b[38;5;241m=\u001b[39m aug\u001b[38;5;241m.\u001b[39mContextualWordEmbsAug(model_path\u001b[38;5;241m=\u001b[39m\u001b[38;5;124m'\u001b[39m\u001b[38;5;124mbert-base-uncased\u001b[39m\u001b[38;5;124m'\u001b[39m, action\u001b[38;5;241m=\u001b[39m\u001b[38;5;124m\"\u001b[39m\u001b[38;5;124minsert\u001b[39m\u001b[38;5;124m\"\u001b[39m)\n",
      "\u001b[1;31mModuleNotFoundError\u001b[0m: No module named 'nlpaug'"
     ]
    }
   ],
   "source": [
    "import nlpaug.augmenter.word.context_word_embs as aug\n",
    "augmenter = aug.ContextualWordEmbsAug(model_path='bert-base-uncased', action=\"insert\")"
   ]
  },
  {
   "cell_type": "code",
   "execution_count": null,
   "id": "aa85e392",
   "metadata": {},
   "outputs": [],
   "source": []
  },
  {
   "cell_type": "code",
   "execution_count": null,
   "id": "d56782c0",
   "metadata": {},
   "outputs": [],
   "source": []
  }
 ],
 "metadata": {
  "kernelspec": {
   "display_name": "Python 3 (ipykernel)",
   "language": "python",
   "name": "python3"
  },
  "language_info": {
   "codemirror_mode": {
    "name": "ipython",
    "version": 3
   },
   "file_extension": ".py",
   "mimetype": "text/x-python",
   "name": "python",
   "nbconvert_exporter": "python",
   "pygments_lexer": "ipython3",
   "version": "3.9.12"
  }
 },
 "nbformat": 4,
 "nbformat_minor": 5
}
